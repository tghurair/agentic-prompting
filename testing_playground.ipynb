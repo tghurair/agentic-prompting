{
 "cells": [
  {
   "cell_type": "code",
   "execution_count": 3,
   "metadata": {},
   "outputs": [],
   "source": [
    "import os\n",
    "from openai import OpenAI\n",
    "\n",
    "# Set up the OpenAI client\n",
    "api_key = os.getenv('OPENAI_API_KEY')\n",
    "client = OpenAI(api_key=api_key)\n",
    "\n",
    "# Function to test system and user prompts\n",
    "def test_prompts(system_prompt: str, user_prompt: str) -> str:\n",
    "    response = client.chat.completions.create(\n",
    "        model=\"gpt-4o\",\n",
    "        messages=[\n",
    "            {\"role\": \"system\", \"content\": system_prompt},\n",
    "            {\"role\": \"user\", \"content\": user_prompt}\n",
    "        ]\n",
    "    )\n",
    "    return response.choices[0].message.content"
   ]
  },
  {
   "cell_type": "code",
   "execution_count": 36,
   "metadata": {},
   "outputs": [
    {
     "name": "stdout",
     "output_type": "stream",
     "text": [
      "System prompt: You are an AI assistant that generates no-shot prompts. Transform and expand the user's input and but scope driven prompt without adding information outside its scope. Follow this structure:\n",
      "\n",
      "        <PROMPT>\n",
      "        [Expanded version of the original prompt, staying strictly within its scope]\n",
      "        </PROMPT>\n",
      "\n",
      "        <INSTRUCTIONS>\n",
      "        [Clear, step-by-step instructions for completing the task]\n",
      "        </INSTRUCTIONS>\n",
      "\n",
      "        <INPUT_EXAMPLE>\n",
      "        [A brief example of the expected input]\n",
      "        </INPUT_EXAMPLE>\n",
      "\n",
      "        <OUTPUT_FORMAT>\n",
      "        [Exact output format as specified by the task, typically a single line for the answer. Dont provide an an actual output the input example, explain how the outputs should be]\n",
      "        </OUTPUT_FORMAT>\n",
      "\n",
      "        Ensure the output format asks for a single answer without explanation or reasoning. The instructions should specify to answer the question directly and concisely.\n",
      "\n",
      "User prompt: Transform this prompt into a comprehensive no-shot prompt: giving ratings to movies that are to be entered, scoring 1-10\n"
     ]
    }
   ],
   "source": [
    "# Additional test cell (can be copied and modified as needed)\n",
    "system_prompt = \"\"\"You are an AI assistant that generates no-shot prompts. Transform and expand the user's input and but scope driven prompt without adding information outside its scope. Follow this structure:\n",
    "\n",
    "        <PROMPT>\n",
    "        [Expanded version of the original prompt, staying strictly within its scope]\n",
    "        </PROMPT>\n",
    "\n",
    "        <INSTRUCTIONS>\n",
    "        [Clear, step-by-step instructions for completing the task]\n",
    "        </INSTRUCTIONS>\n",
    "\n",
    "        <INPUT_EXAMPLE>\n",
    "        [A brief example of the expected input]\n",
    "        </INPUT_EXAMPLE>\n",
    "\n",
    "        <OUTPUT_FORMAT>\n",
    "        [Exact output format as specified by the task, typically a single line for the answer. Dont provide an an actual output the input example, explain how the outputs should be]\n",
    "        </OUTPUT_FORMAT>\n",
    "\n",
    "        Ensure the output format asks for a single answer without explanation or reasoning. The instructions should specify to answer the question directly and concisely.\n",
    "\"\"\"\n",
    "\n",
    "prompt = '''giving ratings to movies that are to be entered, scoring 1-10'''\n",
    "   \n",
    "user_prompt = f\"Transform this prompt into a comprehensive no-shot prompt: {prompt}\"\n",
    "\n",
    "result = test_prompts(system_prompt, user_prompt)\n",
    "print(\"System prompt:\", system_prompt)\n",
    "print(\"User prompt:\", user_prompt)"
   ]
  },
  {
   "cell_type": "code",
   "execution_count": 37,
   "metadata": {},
   "outputs": [
    {
     "name": "stdout",
     "output_type": "stream",
     "text": [
      "\n",
      "Result:\n",
      "<PROMPT>\n",
      "You are tasked with giving ratings to movies based on a score from 1 to 10. Please review the given movie titles and assign a rating to each, ranging from 1 (lowest) to 10 (highest).\n",
      "\n",
      "</PROMPT>\n",
      "\n",
      "<INSTRUCTIONS>\n",
      "1. Review the movie title provided.\n",
      "2. Based on your assessment, assign a rating between 1 (lowest rating) to 10 (highest rating).\n",
      "3. Enter the movie title followed by the rating on a new line.\n",
      "\n",
      "</INSTRUCTIONS>\n",
      "\n",
      "<INPUT_EXAMPLE>\n",
      "Avengers: Endgame\n",
      "\n",
      "</INPUT_EXAMPLE>\n",
      "\n",
      "<OUTPUT_FORMAT>\n",
      "Movie Title: [Rating as a single digit from 1 to 10]\n",
      "\n",
      "</OUTPUT_FORMAT>\n"
     ]
    }
   ],
   "source": [
    "print(\"\\nResult:\")\n",
    "print(result)"
   ]
  },
  {
   "cell_type": "code",
   "execution_count": null,
   "metadata": {},
   "outputs": [],
   "source": []
  }
 ],
 "metadata": {
  "kernelspec": {
   "display_name": "LLM_env",
   "language": "python",
   "name": "python3"
  },
  "language_info": {
   "codemirror_mode": {
    "name": "ipython",
    "version": 3
   },
   "file_extension": ".py",
   "mimetype": "text/x-python",
   "name": "python",
   "nbconvert_exporter": "python",
   "pygments_lexer": "ipython3",
   "version": "3.12.4"
  }
 },
 "nbformat": 4,
 "nbformat_minor": 2
}
