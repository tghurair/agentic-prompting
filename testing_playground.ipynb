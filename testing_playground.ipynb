{
 "cells": [
  {
   "cell_type": "code",
   "execution_count": 3,
   "metadata": {},
   "outputs": [],
   "source": [
    "import os\n",
    "from openai import OpenAI\n",
    "\n",
    "# Set up the OpenAI client\n",
    "api_key = os.getenv('OPENAI_API_KEY')\n",
    "client = OpenAI(api_key=api_key)\n",
    "\n",
    "# Function to test system and user prompts\n",
    "def test_prompts(system_prompt: str, user_prompt: str) -> str:\n",
    "    response = client.chat.completions.create(\n",
    "        model=\"gpt-4o\",\n",
    "        messages=[\n",
    "            {\"role\": \"system\", \"content\": system_prompt},\n",
    "            {\"role\": \"user\", \"content\": user_prompt}\n",
    "        ]\n",
    "    )\n",
    "    return response.choices[0].message.content"
   ]
  },
  {
   "cell_type": "code",
   "execution_count": 6,
   "metadata": {},
   "outputs": [
    {
     "name": "stdout",
     "output_type": "stream",
     "text": [
      "System prompt: You are a helpful assistant that generates prompts. Your task is to take the user's input and generate a clear, expanded prompt while adhering to the original scope. \n",
      "        \n",
      "        Format your response using the following structure:\n",
      "        \n",
      "        <PROMPT>\n",
      "        [Your generated prompt goes here]\n",
      "        </PROMPT>\n",
      "User prompt: Please generate a clear and expanded prompt based on the following input: im trying to connect to my xerox phaser 3140 printer with my windows device so i can print.\n",
      "\n",
      "i plugged it in with cable, and tried to find it and it wont appear\n",
      "\n",
      "what gives?\n"
     ]
    }
   ],
   "source": [
    "# Additional test cell (can be copied and modified as needed)\n",
    "system_prompt = '''You are a helpful assistant that generates prompts. Your task is to take the user's input and generate a clear, expanded prompt while adhering to the original scope. \n",
    "        \n",
    "        Format your response using the following structure:\n",
    "        \n",
    "        <PROMPT>\n",
    "        [Your generated prompt goes here]\n",
    "        </PROMPT>'''\n",
    "        \n",
    "\n",
    "prompt = '''im trying to connect to my xerox phaser 3140 printer with my windows device so i can print.\n",
    "\n",
    "i plugged it in with cable, and tried to find it and it wont appear\n",
    "\n",
    "what gives?'''\n",
    "        \n",
    "user_prompt = f\"Please generate a clear and expanded prompt based on the following input: {prompt}\"\n",
    "\n",
    "\n",
    "\n",
    "result = test_prompts(system_prompt, user_prompt)\n",
    "print(\"System prompt:\", system_prompt)\n",
    "print(\"User prompt:\", user_prompt)"
   ]
  },
  {
   "cell_type": "code",
   "execution_count": 7,
   "metadata": {},
   "outputs": [
    {
     "name": "stdout",
     "output_type": "stream",
     "text": [
      "\n",
      "Result:\n",
      "<PROMPT>\n",
      "I'm attempting to connect my Xerox Phaser 3140 printer to my Windows device so that I can print documents. I've plugged the printer into the computer using a cable, but despite my efforts, the printer won't appear in the list of available devices. Can someone explain what might be going wrong and provide detailed instructions on how to resolve this issue?\n",
      "</PROMPT>\n"
     ]
    }
   ],
   "source": [
    "print(\"\\nResult:\")\n",
    "print(result)"
   ]
  },
  {
   "cell_type": "code",
   "execution_count": null,
   "metadata": {},
   "outputs": [],
   "source": []
  }
 ],
 "metadata": {
  "kernelspec": {
   "display_name": "LLM_env",
   "language": "python",
   "name": "python3"
  },
  "language_info": {
   "codemirror_mode": {
    "name": "ipython",
    "version": 3
   },
   "file_extension": ".py",
   "mimetype": "text/x-python",
   "name": "python",
   "nbconvert_exporter": "python",
   "pygments_lexer": "ipython3",
   "version": "3.12.4"
  }
 },
 "nbformat": 4,
 "nbformat_minor": 2
}
