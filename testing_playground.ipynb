{
 "cells": [
  {
   "cell_type": "code",
   "execution_count": 1,
   "metadata": {},
   "outputs": [],
   "source": [
    "import os\n",
    "from openai import OpenAI\n",
    "\n",
    "# Set up the OpenAI client\n",
    "api_key = os.getenv('OPENAI_API_KEY')\n",
    "client = OpenAI(api_key=api_key)\n",
    "\n",
    "# Function to test system and user prompts\n",
    "def test_prompts(system_prompt: str, user_prompt: str) -> str:\n",
    "    response = client.chat.completions.create(\n",
    "        model=\"gpt-4o\",\n",
    "        messages=[\n",
    "            {\"role\": \"system\", \"content\": system_prompt},\n",
    "            {\"role\": \"user\", \"content\": user_prompt}\n",
    "        ]\n",
    "    )\n",
    "    return response.choices[0].message.content"
   ]
  },
  {
   "cell_type": "code",
   "execution_count": 2,
   "metadata": {},
   "outputs": [
    {
     "name": "stdout",
     "output_type": "stream",
     "text": [
      "System prompt: You are an AI assistant that generates chain-of-thought prompts. Transform the user's input into a structured prompt that encourages step-by-step reasoning. Follow this structure:\n",
      "\n",
      "        <PROMPT>\n",
      "        [Restate and expand on the original prompt, focusing on the core question or task. Maintain its original scope and intent, providing additional context or clarification if necessary.]\n",
      "        </PROMPT>\n",
      "\n",
      "        <INSTRUCTIONS>\n",
      "        Problem-Solving Chain of Thought \n",
      "        • Define the Problem: Identify the core issue. Use curiosity to explore what needs solving.\n",
      "        • Understand the Context: Examine the surrounding environment or situation for insights.\n",
      "        • Collect Evidence: Gather relevant data using available resources and observations.\n",
      "        • Formulate Solutions: Brainstorm multiple potential approaches, considering pros and cons.\n",
      "        • Test Solutions: Experiment with different approaches, learning from successes and failures.\n",
      "        • Reflect and Adjust: Review outcomes and refine your approach as needed.\n",
      "        • Repeat as Necessary: Continue iterating until a viable solution is found.\n",
      "\n",
      "        Keep in Mind \n",
      "        • Avoid overcomplication; sometimes the simplest solution is best.\n",
      "        • Stay focused and minimize distractions from irrelevant information.\n",
      "        • Practice patience and persistence when facing challenges.\n",
      "        </INSTRUCTIONS>\n",
      "\n",
      "        <REASONING_TEMPLATE>\n",
      "        [Provide a flexible template for the reasoning process, allowing for iteration and adjustment as needed. Include placeholders for defining the problem, understanding context, collecting evidence, formulating and testing solutions, and reflecting on outcomes.]\n",
      "        </REASONING_TEMPLATE>\n",
      "\n",
      "        <OUTPUT_FORMAT>\n",
      "        [Specify the desired format for the final answer, emphasizing clarity and conciseness while allowing for explanation of the problem-solving process if relevant.]\n",
      "        </OUTPUT_FORMAT>\n",
      "\n",
      "        Ensure the instructions encourage clear, logical thinking and adaptability in the problem-solving approach.\n",
      "User prompt: Transform this prompt into a chain-of-thought prompt: what is the capital of the moon\n"
     ]
    }
   ],
   "source": [
    "num_examples = 3\n",
    "# Additional test cell (can be copied and modified as needed)\n",
    "system_prompt = \"\"\"You are an AI assistant that generates chain-of-thought prompts. Transform the user's input into a structured prompt that encourages step-by-step reasoning. Follow this structure:\n",
    "\n",
    "        <PROMPT>\n",
    "        [Restate and expand on the original prompt, focusing on the core question or task. Maintain its original scope and intent, providing additional context or clarification if necessary.]\n",
    "        </PROMPT>\n",
    "\n",
    "        <INSTRUCTIONS>\n",
    "        Problem-Solving Chain of Thought \n",
    "        • Define the Problem: Identify the core issue. Use curiosity to explore what needs solving.\n",
    "        • Understand the Context: Examine the surrounding environment or situation for insights.\n",
    "        • Collect Evidence: Gather relevant data using available resources and observations.\n",
    "        • Formulate Solutions: Brainstorm multiple potential approaches, considering pros and cons.\n",
    "        • Test Solutions: Experiment with different approaches, learning from successes and failures.\n",
    "        • Reflect and Adjust: Review outcomes and refine your approach as needed.\n",
    "        • Repeat as Necessary: Continue iterating until a viable solution is found.\n",
    "\n",
    "        Keep in Mind \n",
    "        • Avoid overcomplication; sometimes the simplest solution is best.\n",
    "        • Stay focused and minimize distractions from irrelevant information.\n",
    "        • Practice patience and persistence when facing challenges.\n",
    "        </INSTRUCTIONS>\n",
    "\n",
    "        <REASONING_TEMPLATE>\n",
    "        [Provide a flexible template for the reasoning process, allowing for iteration and adjustment as needed. Include placeholders for defining the problem, understanding context, collecting evidence, formulating and testing solutions, and reflecting on outcomes.]\n",
    "        </REASONING_TEMPLATE>\n",
    "\n",
    "        <OUTPUT_FORMAT>\n",
    "        [Specify the desired format for the final answer, emphasizing clarity and conciseness while allowing for explanation of the problem-solving process if relevant.]\n",
    "        </OUTPUT_FORMAT>\n",
    "\n",
    "        Ensure the instructions encourage clear, logical thinking and adaptability in the problem-solving approach.\"\"\"\n",
    "\n",
    "\n",
    "prompt = '''what is the capital of the moon'''\n",
    "\n",
    "user_prompt = f\"Transform this prompt into a chain-of-thought prompt: {prompt}\"\n",
    "        \n",
    "\n",
    "   \n",
    "\n",
    "result = test_prompts(system_prompt, user_prompt)\n",
    "print(\"System prompt:\", system_prompt)\n",
    "print(\"User prompt:\", user_prompt)"
   ]
  },
  {
   "cell_type": "code",
   "execution_count": 5,
   "metadata": {},
   "outputs": [
    {
     "name": "stdout",
     "output_type": "stream",
     "text": [
      "\n",
      "Result:\n",
      "<PROMPT>\n",
      "Examine the query about the capital of the moon. Consider the nature of capitals in relation to geographical and political entities on Earth and analyze how these concepts might apply or not apply to celestial bodies such as the moon.\n",
      "</PROMPT>\n",
      "\n",
      "<INSTRUCTIONS>\n",
      "Problem-Solving Chain of Thought \n",
      "• Define the Problem: Identify if there is an established capital for the moon or if such a concept is applicable to the moon as a non-terrestrial entity.\n",
      "• Understand the Context: Examine the historical, scientific, and political context of territorial claims and governance of celestial bodies.\n",
      "• Collect Evidence: Gather information from authoritative sources on space law, international treaties (like the Outer Space Treaty), and any existing human activities on the moon.\n",
      "• Formulate Solutions: Consider potential scenarios or frameworks in which a \"capital\" of the moon could exist or be established, if any.\n",
      "• Test Solutions: Analyze the feasibility and implications of each scenario, using examples from Earth's practice of establishing capitals.\n",
      "• Reflect and Adjust: Review the reasoning and consider if there are alternative ways to interpret the concept of a capital in relation to the moon.\n",
      "• Repeat as Necessary: Refine the understanding or conclusions based on new insights or evidence.\n",
      "\n",
      "Keep in Mind \n",
      "• Avoid overcomplication; sometimes the simplest explanation is the most accurate.\n",
      "• Stay focused and minimize distractions from speculative ideas without basis in fact.\n",
      "• Practice patience and a methodical approach to thoroughly explore the topic.\n",
      "\n",
      "<REASONING_TEMPLATE>\n",
      "1. Define the Problem: Is there a recognized capital of the moon?\n",
      "2. Understand the Context: Review the nature of capitals, territorial governance, and current or historical claims regarding the moon.\n",
      "3. Collect Evidence: Look up space law, international treaties (e.g., Outer Space Treaty), and lunar exploration records.\n",
      "4. Formulate Solutions: Propose possible interpretations or frameworks for having a moon capital.\n",
      "5. Test Solutions: Check the viability and logical consistency of these interpretations with real-world examples.\n",
      "6. Reflect and Adjust: Rethink the conclusions if necessary, based on a deeper understanding.\n",
      "7. Repeat as Necessary: Iterate to reach a well-rounded explanation.\n",
      "\n",
      "<OUTPUT_FORMAT>\n",
      "Present a clear and concise answer explaining the reasoning process used to determine if the moon has a capital and, if applicable, what could be considered a potential capital or the significance of the question itself.\n",
      "</OUTPUT_FORMAT>\n"
     ]
    }
   ],
   "source": [
    "print(\"\\nResult:\")\n",
    "print(result)"
   ]
  },
  {
   "cell_type": "code",
   "execution_count": null,
   "metadata": {},
   "outputs": [],
   "source": []
  }
 ],
 "metadata": {
  "kernelspec": {
   "display_name": "LLM_env",
   "language": "python",
   "name": "python3"
  },
  "language_info": {
   "codemirror_mode": {
    "name": "ipython",
    "version": 3
   },
   "file_extension": ".py",
   "mimetype": "text/x-python",
   "name": "python",
   "nbconvert_exporter": "python",
   "pygments_lexer": "ipython3",
   "version": "3.12.4"
  }
 },
 "nbformat": 4,
 "nbformat_minor": 2
}
