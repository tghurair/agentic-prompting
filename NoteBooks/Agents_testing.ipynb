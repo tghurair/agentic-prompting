{
 "cells": [
  {
   "cell_type": "code",
   "execution_count": 30,
   "metadata": {},
   "outputs": [],
   "source": [
    "from crewai import Agent, Task, crew\n",
    "import os\n",
    "\n",
    "# Set the LLM model by defining the environment variable\n",
    "os.environ[\"OPENAI_MODEL_NAME\"] = \"gpt-4o-mini\"  # Change this to the specific model you want to use\n",
    "\n",
    "# Define the agent with prompt engineering capabilities\n",
    "prompt_engineer = Agent(\n",
    "    role='Prompt Engineer',\n",
    "    goal='Enhance and optimize prompts iteratively to improve LLM performance.',\n",
    "    backstory=(\n",
    "        \"You are a seasoned Prompt Engineer with deep expertise in natural language processing. \"\n",
    "        \"Your primary skill is in fine-tuning prompts to maximize clarity, relevance, and effectiveness. \"\n",
    "        \"You have a systematic approach to testing and refining prompts to achieve the best outcomes.\"\n",
    "    ),\n",
    "    memory=True,\n",
    "    verbose=True\n",
    ")"
   ]
  },
  {
   "cell_type": "code",
   "execution_count": 31,
   "metadata": {},
   "outputs": [],
   "source": [
    "# Define the task\n",
    "enhance_prompt_task = Task(\n",
    "    description=(\n",
    "        \"Review the provided prompt and iteratively suggest improvements. \"\n",
    "        \"Focus on enhancing clarity, specificity, and effectiveness in eliciting the desired responses from the language model. \"\n",
    "        \"Each iteration should aim to bring the prompt closer to an ideal version. \"\n",
    "        \"Provide feedback on each version and suggest modifications.\\n\\n\"\n",
    "        \"Initial Prompt: {initial_prompt}\\n\\n\"\n",
    "        \"Your task is to enhance the prompt step-by-step. You should provide reasoning behind each suggested change and validate its effectiveness through trial.\"\n",
    "    ),\n",
    "    expected_output='A refined version of the prompt with step-by-step suggestions and explanations for each change.',\n",
    "    agent=prompt_engineer\n",
    ")"
   ]
  },
  {
   "cell_type": "code",
   "execution_count": 32,
   "metadata": {},
   "outputs": [
    {
     "name": "stderr",
     "output_type": "stream",
     "text": [
      "2024-09-14 22:13:50,804 - 8196618944 - __init__.py-__init__:538 - WARNING: Overriding of current TracerProvider is not allowed\n"
     ]
    }
   ],
   "source": [
    "from crewai import Crew\n",
    "\n",
    "my_crew = Crew(\n",
    "    agents=[prompt_engineer],\n",
    "    tasks=[enhance_prompt_task],\n",
    "    verbose=True  # For detailed output\n",
    ")"
   ]
  },
  {
   "cell_type": "code",
   "execution_count": 29,
   "metadata": {},
   "outputs": [
    {
     "name": "stdout",
     "output_type": "stream",
     "text": [
      "\u001b[1m\u001b[95m [2024-09-14 22:12:57][DEBUG]: == Working Agent: Prompt Engineer\u001b[00m\n",
      "\u001b[1m\u001b[95m [2024-09-14 22:12:57][INFO]: == Starting Task: Review the provided prompt and iteratively suggest improvements. Focus on enhancing clarity, specificity, and effectiveness in eliciting the desired responses from the language model. Each iteration should aim to bring the prompt closer to an ideal version. Provide feedback on each version and suggest modifications.\n",
      "\n",
      "Initial Prompt: Your initial prompt here\n",
      "\n",
      "Your task is to enhance the prompt step-by-step. You should provide reasoning behind each suggested change and validate its effectiveness through trial.\u001b[00m\n",
      "\n",
      "\n",
      "\u001b[1m> Entering new CrewAgentExecutor chain...\u001b[0m\n",
      "\u001b[32;1m\u001b[1;3mThought: I now can give a great answer. \n",
      "\n",
      "**Initial Prompt:** Describe the benefits of exercise.\n",
      "\n",
      "### Iteration 1:\n",
      "**Feedback:** The initial prompt is quite broad and lacks specificity, which may lead to vague or generalized responses. To improve clarity and focus, we can specify the type of exercise and the audience.\n",
      "\n",
      "**Revised Prompt:** Describe the physical and mental benefits of aerobic exercise for adults aged 30 to 50.\n",
      "\n",
      "### Iteration 2:\n",
      "**Feedback:** The revised prompt is more specific, targeting a particular demographic and type of exercise. However, it can be further refined by asking for specific benefits and encouraging a structured response.\n",
      "\n",
      "**Revised Prompt:** List and explain at least five physical and mental benefits of aerobic exercise for adults aged 30 to 50, using bullet points for clarity.\n",
      "\n",
      "### Iteration 3:\n",
      "**Feedback:** This version is clear and structured, but it could be further improved by inviting examples or evidence to support the benefits, enhancing the response's depth.\n",
      "\n",
      "**Revised Prompt:** List and explain at least five physical and mental benefits of aerobic exercise for adults aged 30 to 50. Use bullet points for clarity and provide examples or evidence to support each benefit.\n",
      "\n",
      "### Iteration 4:\n",
      "**Feedback:** This prompt is now quite effective, but we can enhance it by emphasizing the importance of the benefits and adding a request for a brief conclusion to summarize the overall impact of aerobic exercise.\n",
      "\n",
      "**Revised Prompt:** List and explain at least five significant physical and mental benefits of aerobic exercise for adults aged 30 to 50. Use bullet points for clarity and provide examples or evidence to support each benefit. Finally, conclude with a brief summary of the overall impact of aerobic exercise on health and well-being.\n",
      "\n",
      "### Final Review:\n",
      "This final version of the prompt captures specificity, encourages a structured response, and invites depth through examples and a summary, ensuring that the language model can provide a comprehensive and relevant answer.\n",
      "\n",
      "**Final Answer:** List and explain at least five significant physical and mental benefits of aerobic exercise for adults aged 30 to 50. Use bullet points for clarity and provide examples or evidence to support each benefit. Finally, conclude with a brief summary of the overall impact of aerobic exercise on health and well-being.\u001b[0m\n",
      "\n",
      "\u001b[1m> Finished chain.\u001b[0m\n",
      "\u001b[1m\u001b[92m [2024-09-14 22:13:01][DEBUG]: == [Prompt Engineer] Task output: ** List and explain at least five significant physical and mental benefits of aerobic exercise for adults aged 30 to 50. Use bullet points for clarity and provide examples or evidence to support each benefit. Finally, conclude with a brief summary of the overall impact of aerobic exercise on health and well-being.\n",
      "\n",
      "\u001b[00m\n"
     ]
    }
   ],
   "source": [
    "result = my_crew.kickoff(inputs={\"initial_prompt\": \"Your initial prompt here\"})"
   ]
  },
  {
   "cell_type": "code",
   "execution_count": null,
   "metadata": {},
   "outputs": [],
   "source": []
  }
 ],
 "metadata": {
  "kernelspec": {
   "display_name": "LLM_env",
   "language": "python",
   "name": "python3"
  },
  "language_info": {
   "codemirror_mode": {
    "name": "ipython",
    "version": 3
   },
   "file_extension": ".py",
   "mimetype": "text/x-python",
   "name": "python",
   "nbconvert_exporter": "python",
   "pygments_lexer": "ipython3",
   "version": "3.12.4"
  }
 },
 "nbformat": 4,
 "nbformat_minor": 2
}
